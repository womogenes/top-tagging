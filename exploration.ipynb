{
 "cells": [
  {
   "cell_type": "code",
   "execution_count": 1,
   "metadata": {},
   "outputs": [
    {
     "ename": "ModuleNotFoundError",
     "evalue": "No module named 'tqdm'",
     "output_type": "error",
     "traceback": [
      "\u001b[0;31m---------------------------------------------------------------------------\u001b[0m",
      "\u001b[0;31mModuleNotFoundError\u001b[0m                       Traceback (most recent call last)",
      "\u001b[0;32m/tmp/ipykernel_34224/2380330344.py\u001b[0m in \u001b[0;36m<module>\u001b[0;34m\u001b[0m\n\u001b[1;32m      2\u001b[0m \u001b[0;32mimport\u001b[0m \u001b[0mrandom\u001b[0m\u001b[0;34m\u001b[0m\u001b[0;34m\u001b[0m\u001b[0m\n\u001b[1;32m      3\u001b[0m \u001b[0;34m\u001b[0m\u001b[0m\n\u001b[0;32m----> 4\u001b[0;31m \u001b[0;32mfrom\u001b[0m \u001b[0mtqdm\u001b[0m \u001b[0;32mimport\u001b[0m \u001b[0mtqdm\u001b[0m\u001b[0;34m\u001b[0m\u001b[0;34m\u001b[0m\u001b[0m\n\u001b[0m\u001b[1;32m      5\u001b[0m \u001b[0;32mfrom\u001b[0m \u001b[0mmatplotlib\u001b[0m \u001b[0;32mimport\u001b[0m \u001b[0mpyplot\u001b[0m \u001b[0;32mas\u001b[0m \u001b[0mplt\u001b[0m\u001b[0;34m\u001b[0m\u001b[0;34m\u001b[0m\u001b[0m\n\u001b[1;32m      6\u001b[0m \u001b[0;34m\u001b[0m\u001b[0m\n",
      "\u001b[0;31mModuleNotFoundError\u001b[0m: No module named 'tqdm'"
     ]
    }
   ],
   "source": [
    "import shutil\n",
    "import random\n",
    "\n",
    "from tqdm import tqdm\n",
    "from matplotlib import pyplot as plt\n",
    "\n",
    "import numpy as np\n",
    "from sklearn.preprocessing import StandardScaler"
   ]
  },
  {
   "cell_type": "code",
   "execution_count": 4,
   "metadata": {},
   "outputs": [
    {
     "name": "stderr",
     "output_type": "stream",
     "text": [
      "100%|███████████████████████████████████████████████████████████| 1000/1000 [01:43<00:00,  9.71it/s]\n"
     ]
    }
   ],
   "source": [
    "# Copy a couple jets to a different folder\n",
    "if not os.path.isdir(\"./data/jets-sample\"):\n",
    "    os.mkdir(\"./data/jets-sample\")\n",
    "\n",
    "for i in tqdm(range(1000), ncols=100):\n",
    "    file_name = f\"event_{str(i).zfill(7)}.npz\"\n",
    "    shutil.copyfile(f\"./data/jets/{file_name}\", f\"./data/jets-sample/{file_name}\")"
   ]
  },
  {
   "cell_type": "code",
   "execution_count": 11,
   "metadata": {},
   "outputs": [
    {
     "name": "stderr",
     "output_type": "stream",
     "text": [
      "100%|███████████████████████████████████████████████████████████| 1000/1000 [00:38<00:00, 25.70it/s]\n"
     ]
    }
   ],
   "source": [
    "# Collect all features\n",
    "events = []\n",
    "for i in tqdm(range(1000), ncols=100):\n",
    "    events.append(np.load(f\"./data/jets-sample/event_{str(i).zfill(7)}.npz\"))"
   ]
  },
  {
   "cell_type": "code",
   "execution_count": 3,
   "metadata": {},
   "outputs": [],
   "source": [
    "# Normalize all features\n",
    "# They are:\n",
    "#   p_T: transverse momentum (radial)\n",
    "#   eta: angular coordinate\n",
    "#   phi: angular coordinate\n",
    "#   E  : energy\n",
    "#   R  : sqrt(eta^2 + phi^2)\n",
    "\n",
    "scaler = StandardScaler()\n",
    "\n",
    "for event in events:\n",
    "    scaler.fit(event[\"x\"])\n",
    "\n",
    "for i in range(len(events)):\n",
    "    scaler.transform(events[i][\"x\"])"
   ]
  },
  {
   "cell_type": "code",
   "execution_count": 13,
   "metadata": {},
   "outputs": [
    {
     "name": "stderr",
     "output_type": "stream",
     "text": [
      "100%|██████████| 1000/1000 [00:00<00:00, 1157.69it/s]\n"
     ]
    },
    {
     "name": "stdout",
     "output_type": "stream",
     "text": [
      "(52562,)\n"
     ]
    },
    {
     "data": {
      "image/png": "[encoded data removed]",
      "text/plain": [
       "<Figure size 432x288 with 1 Axes>"
      ]
     },
     "metadata": {
      "needs_background": "light"
     },
     "output_type": "display_data"
    }
   ],
   "source": [
    "all_eta = np.array([])\n",
    "for event in tqdm(events):\n",
    "    all_eta = np.hstack((all_eta, event[\"x\"][:, 1]))\n",
    "\n",
    "print(all_eta.shape)\n",
    "\n",
    "plt.hist(all_eta, bins=100);\n",
    "plt.xlabel(\"phi (scaled)\");"
   ]
  },
  {
   "cell_type": "code",
   "execution_count": 12,
   "metadata": {},
   "outputs": [
    {
     "name": "stderr",
     "output_type": "stream",
     "text": [
      "100%|██████████| 1000/1000 [00:01<00:00, 639.12it/s]"
     ]
    },
    {
     "name": "stdout",
     "output_type": "stream",
     "text": [
      "(52562,)\n"
     ]
    },
    {
     "name": "stderr",
     "output_type": "stream",
     "text": [
      "\n"
     ]
    },
    {
     "ename": "NameError",
     "evalue": "name 'all_eta' is not defined",
     "output_type": "error",
     "traceback": [
      "\u001b[1;31m---------------------------------------------------------------------------\u001b[0m",
      "\u001b[1;31mNameError\u001b[0m                                 Traceback (most recent call last)",
      "\u001b[1;32mc:\\Users\\willi\\Documents\\_\\Coding\\EPE\\top-tagging\\exploration.ipynb Cell 6\u001b[0m in \u001b[0;36m<cell line: 7>\u001b[1;34m()\u001b[0m\n\u001b[0;32m      <a href='vscode-notebook-cell:/c%3A/Users/willi/Documents/_/Coding/EPE/top-tagging/exploration.ipynb#W5sZmlsZQ%3D%3D?line=2'>3</a>\u001b[0m     all_phi \u001b[39m=\u001b[39m np\u001b[39m.\u001b[39mhstack((all_phi, event[\u001b[39m\"\u001b[39m\u001b[39mx\u001b[39m\u001b[39m\"\u001b[39m][:, \u001b[39m2\u001b[39m]))\n\u001b[0;32m      <a href='vscode-notebook-cell:/c%3A/Users/willi/Documents/_/Coding/EPE/top-tagging/exploration.ipynb#W5sZmlsZQ%3D%3D?line=4'>5</a>\u001b[0m \u001b[39mprint\u001b[39m(all_phi\u001b[39m.\u001b[39mshape)\n\u001b[1;32m----> <a href='vscode-notebook-cell:/c%3A/Users/willi/Documents/_/Coding/EPE/top-tagging/exploration.ipynb#W5sZmlsZQ%3D%3D?line=6'>7</a>\u001b[0m plt\u001b[39m.\u001b[39mhist(all_eta, bins\u001b[39m=\u001b[39m\u001b[39m100\u001b[39m);\n\u001b[0;32m      <a href='vscode-notebook-cell:/c%3A/Users/willi/Documents/_/Coding/EPE/top-tagging/exploration.ipynb#W5sZmlsZQ%3D%3D?line=7'>8</a>\u001b[0m plt\u001b[39m.\u001b[39mxlabel(\u001b[39m\"\u001b[39m\u001b[39mphi (scaled)\u001b[39m\u001b[39m\"\u001b[39m)\n",
      "\u001b[1;31mNameError\u001b[0m: name 'all_eta' is not defined"
     ]
    }
   ],
   "source": [
    "all_phi = np.array([])\n",
    "for event in tqdm(events):\n",
    "    all_phi = np.hstack((all_phi, event[\"x\"][:, 2]))\n",
    "\n",
    "print(all_phi.shape)\n",
    "\n",
    "plt.hist(all_eta, bins=100);\n",
    "plt.xlabel(\"phi (scaled)\")"
   ]
  },
  {
   "cell_type": "code",
   "execution_count": null,
   "metadata": {},
   "outputs": [],
   "source": [
    "# Normalize energy "
   ]
  },
  {
   "cell_type": "code",
   "execution_count": 16,
   "metadata": {},
   "outputs": [
    {
     "name": "stderr",
     "output_type": "stream",
     "text": [
      "100%|██████████| 1000/1000 [00:02<00:00, 360.75it/s]\n"
     ]
    },
    {
     "name": "stdout",
     "output_type": "stream",
     "text": [
      "(52562,)\n"
     ]
    },
    {
     "data": {
      "text/plain": [
       "Text(0.5, 0, 'energy (scaled)')"
      ]
     },
     "execution_count": 16,
     "metadata": {},
     "output_type": "execute_result"
    },
    {
     "data": {
      "image/png": "[encoded data removed]",
      "text/plain": [
       "<Figure size 432x288 with 1 Axes>"
      ]
     },
     "metadata": {
      "needs_background": "light"
     },
     "output_type": "display_data"
    }
   ],
   "source": [
    "all_energy = np.array([])\n",
    "for event in tqdm(events):\n",
    "    all_energy = np.hstack((all_energy, event[\"x\"][:, 3]))\n",
    "\n",
    "print(all_energy.shape)\n",
    "\n",
    "plt.hist(all_energy, bins=100);\n",
    "plt.xlabel(\"energy (scaled)\")"
   ]
  },
  {
   "cell_type": "code",
   "execution_count": 17,
   "metadata": {},
   "outputs": [
    {
     "name": "stderr",
     "output_type": "stream",
     "text": [
      "100%|██████████| 1000/1000 [00:04<00:00, 248.38it/s]\n"
     ]
    },
    {
     "name": "stdout",
     "output_type": "stream",
     "text": [
      "(52562,)\n"
     ]
    },
    {
     "data": {
      "text/plain": [
       "Text(0.5, 0, 'energy (scaled)')"
      ]
     },
     "execution_count": 17,
     "metadata": {},
     "output_type": "execute_result"
    },
    {
     "data": {
      "image/png": "[encoded data removed]",
      "text/plain": [
       "<Figure size 432x288 with 1 Axes>"
      ]
     },
     "metadata": {
      "needs_background": "light"
     },
     "output_type": "display_data"
    }
   ],
   "source": [
    "all_momentum = np.array([])\n",
    "for event in tqdm(events):\n",
    "    all_momentum = np.hstack((all_momentum, event[\"x\"][:, 0]))\n",
    "\n",
    "print(all_momentum.shape)\n",
    "\n",
    "plt.hist(all_momentum, bins=100);\n",
    "plt.xlabel(\"energy (scaled)\")"
   ]
  },
  {
   "cell_type": "code",
   "execution_count": 18,
   "metadata": {},
   "outputs": [
    {
     "data": {
      "text/plain": [
       "<matplotlib.collections.PathCollection at 0x2117ce50fd0>"
      ]
     },
     "execution_count": 18,
     "metadata": {},
     "output_type": "execute_result"
    },
    {
     "data": {
      "image/png": "[encoded data removed]",
      "text/plain": [
       "<Figure size 432x288 with 1 Axes>"
      ]
     },
     "metadata": {
      "needs_background": "light"
     },
     "output_type": "display_data"
    }
   ],
   "source": [
    "plt.scatter(x=all_energy, y=all_momentum)\n",
    "plt.xlabel(\"Energy\")\n",
    "plt.ylabel(\"Momentum)\")"
   ]
  },
  {
   "cell_type": "markdown",
   "metadata": {},
   "source": [
    "## Analysis"
   ]
  },
  {
   "cell_type": "code",
   "execution_count": 61,
   "metadata": {},
   "outputs": [],
   "source": [
    "labels = [\"Gluon\", \"Light quark\", \"W boson\", \"Z boson\", \"Top quark\"]"
   ]
  },
  {
   "cell_type": "code",
   "execution_count": 19,
   "metadata": {},
   "outputs": [
    {
     "name": "stderr",
     "output_type": "stream",
     "text": [
      "100%|██████████| 1000/1000 [00:03<00:00, 325.65it/s]\n"
     ]
    },
    {
     "data": {
      "text/plain": [
       "<matplotlib.image.AxesImage at 0x2117cec8820>"
      ]
     },
     "execution_count": 19,
     "metadata": {},
     "output_type": "execute_result"
    },
    {
     "data": {
      "image/png": "[encoded data removed]",
      "text/plain": [
       "<Figure size 288x576 with 2 Axes>"
      ]
     },
     "metadata": {
      "needs_background": "light"
     },
     "output_type": "display_data"
    }
   ],
   "source": [
    "fig, axs = plt.subplots(2, 1)\n",
    "fig.set_size_inches(4, 8)\n",
    "\n",
    "n_jets = len(events)\n",
    "resolution = 50\n",
    "image = np.zeros((resolution, resolution))\n",
    "\n",
    "for i in tqdm(range(n_jets)):\n",
    "    y = events[i][\"y\"]\n",
    "    if y[0] != 1: continue\n",
    "\n",
    "    # Plot a single thing\n",
    "    my_event = events[i][\"x\"]\n",
    "\n",
    "    etas = my_event[:, 1]\n",
    "    phis = my_event[:, 2]\n",
    "    energies = my_event[:, 3]\n",
    "\n",
    "    hist = np.histogram2d(etas, phis, weights=energies, bins=50)\n",
    "\n",
    "    image += hist[0]\n",
    "\n",
    "plt.imshow(image, cmap=\"hot\")"
   ]
  },
  {
   "cell_type": "code",
   "execution_count": null,
   "metadata": {},
   "outputs": [],
   "source": [
    "# Add up all images for each category"
   ]
  }
 ],
 "metadata": {
  "kernelspec": {
   "display_name": "Python 3 (ipykernel)",
   "language": "python",
   "name": "python3"
  },
  "language_info": {
   "codemirror_mode": {
    "name": "ipython",
    "version": 3
   },
   "file_extension": ".py",
   "mimetype": "text/x-python",
   "name": "python",
   "nbconvert_exporter": "python",
   "pygments_lexer": "ipython3",
   "version": "3.8.0"
  }
 },
 "nbformat": 4,
 "nbformat_minor": 4
}
