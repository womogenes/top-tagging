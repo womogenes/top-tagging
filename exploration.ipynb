{
 "cells": [
  {
   "cell_type": "code",
   "execution_count": 59,
   "metadata": {},
   "outputs": [],
   "source": [
    "import shutil\n",
    "import random\n",
    "\n",
    "from tqdm import tqdm\n",
    "from matplotlib import pyplot as plt\n",
    "\n",
    "import numpy as np\n",
    "from sklearn.preprocessing import StandardScaler"
   ]
  },
  {
   "cell_type": "code",
   "execution_count": 3,
   "metadata": {},
   "outputs": [
    {
     "name": "stderr",
     "output_type": "stream",
     "text": [
      "100%|███████████████████████████████████████████████████████████| 1000/1000 [00:22<00:00, 44.10it/s]\n"
     ]
    }
   ],
   "source": [
    "# Copy a couple jets to a different folder\n",
    "for i in tqdm(range(1000), ncols=100):\n",
    "    file_name = f\"event_{str(i).zfill(7)}.npz\"\n",
    "    shutil.copyfile(f\"./data/jets/{file_name}\", f\"./data/jets-sample/{file_name}\")"
   ]
  },
  {
   "cell_type": "code",
   "execution_count": 2,
   "metadata": {},
   "outputs": [
    {
     "name": "stderr",
     "output_type": "stream",
     "text": [
      "100%|█████████████████████████████████████████████████████████| 1000/1000 [00:00<00:00, 7299.58it/s]\n"
     ]
    }
   ],
   "source": [
    "# Collect all features\n",
    "events = []\n",
    "for i in tqdm(range(1000), ncols=100):\n",
    "    events.append(np.load(f\"./data/jets-sample/event_{str(i).zfill(7)}.npz\"))"
   ]
  },
  {
   "cell_type": "code",
   "execution_count": 3,
   "metadata": {},
   "outputs": [],
   "source": [
    "# Normalize all features\n",
    "# They are:\n",
    "#   p_T: transverse momentum\n",
    "#   eta: angular coordinate\n",
    "#   phi: angular coordinate\n",
    "#   E  : energy\n",
    "#   R  : sqrt(eta^2 + phi^2)\n",
    "\n",
    "scaler = StandardScaler()\n",
    "\n",
    "for event in events:\n",
    "    scaler.fit(event[\"x\"])\n",
    "\n",
    "for i in range(len(events)):\n",
    "    scaler.transform(events[i][\"x\"])"
   ]
  },
  {
   "cell_type": "code",
   "execution_count": 4,
   "metadata": {},
   "outputs": [
    {
     "name": "stderr",
     "output_type": "stream",
     "text": [
      "100%|██████████| 1000/1000 [00:00<00:00, 3658.87it/s]\n"
     ]
    },
    {
     "name": "stdout",
     "output_type": "stream",
     "text": [
      "(52562,)\n"
     ]
    },
    {
     "data": {
      "image/png": "[encoded data removed]",
      "text/plain": [
       "<Figure size 432x288 with 1 Axes>"
      ]
     },
     "metadata": {
      "needs_background": "light"
     },
     "output_type": "display_data"
    }
   ],
   "source": [
    "all_eta = np.array([])\n",
    "for event in tqdm(events):\n",
    "    all_eta = np.hstack((all_eta, event[\"x\"][:, 1]))\n",
    "\n",
    "print(all_eta.shape)\n",
    "\n",
    "plt.hist(all_eta, bins=100);\n",
    "plt.xlabel(\"phi (scaled)\");"
   ]
  },
  {
   "cell_type": "code",
   "execution_count": 5,
   "metadata": {},
   "outputs": [
    {
     "name": "stderr",
     "output_type": "stream",
     "text": [
      "100%|██████████| 1000/1000 [00:00<00:00, 2564.21it/s]"
     ]
    },
    {
     "name": "stdout",
     "output_type": "stream",
     "text": [
      "(52562,)\n"
     ]
    },
    {
     "name": "stderr",
     "output_type": "stream",
     "text": [
      "\n"
     ]
    },
    {
     "data": {
      "text/plain": [
       "Text(0.5, 0, 'phi (scaled)')"
      ]
     },
     "execution_count": 5,
     "metadata": {},
     "output_type": "execute_result"
    },
    {
     "data": {
      "image/png": "[encoded data removed]",
      "text/plain": [
       "<Figure size 432x288 with 1 Axes>"
      ]
     },
     "metadata": {
      "needs_background": "light"
     },
     "output_type": "display_data"
    }
   ],
   "source": [
    "all_phi = np.array([])\n",
    "for event in tqdm(events):\n",
    "    all_phi = np.hstack((all_phi, event[\"x\"][:, 2]))\n",
    "\n",
    "print(all_phi.shape)\n",
    "\n",
    "plt.hist(all_eta, bins=100);\n",
    "plt.xlabel(\"phi (scaled)\")"
   ]
  },
  {
   "attachments": {},
   "cell_type": "markdown",
   "metadata": {},
   "source": [
    "## Analysis"
   ]
  },
  {
   "cell_type": "code",
   "execution_count": 61,
   "metadata": {},
   "outputs": [],
   "source": [
    "labels = [\"Gluon\", \"Light quark\", \"W boson\", \"Z boson\", \"Top quark\"]"
   ]
  },
  {
   "cell_type": "code",
   "execution_count": 71,
   "metadata": {},
   "outputs": [
    {
     "data": {
      "image/png": "[encoded data removed]",
      "text/plain": [
       "<Figure size 1440x288 with 5 Axes>"
      ]
     },
     "metadata": {
      "needs_background": "light"
     },
     "output_type": "display_data"
    }
   ],
   "source": [
    "fig, axs = plt.subplots(1, 5)\n",
    "fig.set_size_inches(20, 4)\n",
    "\n",
    "for i in range(5):\n",
    "    # Plot a single thing\n",
    "    event_id = random.randrange(len(events))\n",
    "    my_event = events[event_id][\"x\"]\n",
    "\n",
    "    etas = my_event[:, 1]\n",
    "    phis = my_event[:, 2]\n",
    "    energies = my_event[:, 3]\n",
    "\n",
    "    hist = np.histogram2d(etas, phis, weights=energies, bins=50)\n",
    "\n",
    "    axs[i].imshow(hist[0], cmap=\"hot\");\n",
    "    axs[i].set_xlabel(event_id)"
   ]
  }
 ],
 "metadata": {
  "kernelspec": {
   "display_name": "Python 3",
   "language": "python",
   "name": "python3"
  },
  "language_info": {
   "codemirror_mode": {
    "name": "ipython",
    "version": 3
   },
   "file_extension": ".py",
   "mimetype": "text/x-python",
   "name": "python",
   "nbconvert_exporter": "python",
   "pygments_lexer": "ipython3",
   "version": "3.10.5"
  },
  "orig_nbformat": 4
 },
 "nbformat": 4,
 "nbformat_minor": 2
}
