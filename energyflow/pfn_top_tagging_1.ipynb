{
 "cells": [
  {
   "cell_type": "markdown",
   "id": "34435b5a-4783-46a0-ba45-e4df38e1ca17",
   "metadata": {},
   "source": [
    "# Top Tagging with Particle Flow Network\n",
    "\n",
    "Documentation: [Examples](https://energyflow.network/examples/), [Architectures](https://energyflow.network/docs/archs/)"
   ]
  },
  {
   "cell_type": "code",
   "execution_count": 16,
   "id": "d8a97b62-2e11-4e19-90ea-d04b9d6b440b",
   "metadata": {
    "tags": []
   },
   "outputs": [],
   "source": [
    "# Make tensorflow quieter\n",
    "import os\n",
    "os.environ[\"TF_CPP_MIN_LOG_LEVEL\"] = \"2\"\n",
    "\n",
    "# Computing imports\n",
    "import numpy as np\n",
    "import tensorflow as tf\n",
    "from sklearn.metrics import roc_auc_score, roc_curve\n",
    "\n",
    "# Useful imports\n",
    "from tqdm import tqdm\n",
    "import matplotlib.pyplot as plt\n",
    "\n",
    "# Energyflow imports\n",
    "import energyflow as ef\n",
    "from energyflow.archs import PFN\n",
    "from energyflow.utils import data_split, to_categorical"
   ]
  },
  {
   "cell_type": "code",
   "execution_count": 2,
   "id": "b4d30bf2-de7a-4c12-9482-4d2cb22f393c",
   "metadata": {},
   "outputs": [
    {
     "data": {
      "text/plain": [
       "[PhysicalDevice(name='/physical_device:GPU:0', device_type='GPU')]"
      ]
     },
     "execution_count": 2,
     "metadata": {},
     "output_type": "execute_result"
    }
   ],
   "source": [
    "# Make sure tensorflow can use the GPU\n",
    "tf.config.list_physical_devices(\"GPU\")"
   ]
  },
  {
   "cell_type": "code",
   "execution_count": 3,
   "id": "8ef2c168-fbdd-4724-adef-83209a612c2e",
   "metadata": {},
   "outputs": [],
   "source": [
    "# matplotlib settings\n",
    "plt.rcParams['font.family'] = 'serif'\n",
    "plt.rcParams['figure.autolayout'] = True"
   ]
  },
  {
   "cell_type": "markdown",
   "id": "0716902c-b262-43f9-b3ae-d8ceeae16f27",
   "metadata": {},
   "source": [
    "## Load data"
   ]
  },
  {
   "cell_type": "code",
   "execution_count": 5,
   "id": "a339c60b-726f-4b99-a664-2eba07db7cbf",
   "metadata": {},
   "outputs": [
    {
     "name": "stdout",
     "output_type": "stream",
     "text": [
      "Loaded data\n"
     ]
    }
   ],
   "source": [
    "jets_path = \"/usatlas/atlas01/atlasdisk/users/atlas_wifeng/phys427/top-tagging/data/jets-988K-padded.npz\"\n",
    "jets = np.load(jets_path)\n",
    "\n",
    "X, y = jets[\"X\"], jets[\"y\"]\n",
    "Y = y\n",
    "\n",
    "print(\"Loaded data\")"
   ]
  },
  {
   "cell_type": "markdown",
   "id": "207961b0-3945-4a87-b520-18a30e04d4ee",
   "metadata": {
    "tags": []
   },
   "source": [
    "### Feature information\n",
    "\n",
    "`X`: `(N, max_jet_size, 5)` 3D numpy array of floats\n",
    "* `0`: $p_T$, transverse momentum\n",
    "* `1`: $\\eta$, angular coordinate\n",
    "* `2`: $\\phi$, angular coordinate\n",
    "* `3`: $E$, energy\n",
    "* `4`: $R$, $\\sqrt{\\eta^2 + \\phi^2}$\n",
    "\n",
    "`y`: `(N, 5)` 1D numpy array of ints that are one-hot encoded\n",
    "* `0`: Gluon\n",
    "* `1`: Light quark\n",
    "* `2`: W boson\n",
    "* `3`: Z boson\n",
    "* `4`: Top quark\n"
   ]
  },
  {
   "cell_type": "code",
   "execution_count": 8,
   "id": "88b110cf-c05f-4b46-9009-96a91de68368",
   "metadata": {},
   "outputs": [
    {
     "name": "stdout",
     "output_type": "stream",
     "text": [
      "Done train/val/test split\n"
     ]
    }
   ],
   "source": [
    "# Do train/val/test split\n",
    "n_val = 200000\n",
    "n_test = 200000\n",
    "\n",
    "(X_train, X_val, X_test,\n",
    " Y_train, Y_val, Y_test) = data_split(X, Y, val=n_val, test=n_test)\n",
    "\n",
    "print(\"Done train/val/test split\")"
   ]
  },
  {
   "cell_type": "markdown",
   "id": "76cfe5c2-1fbb-435e-98b0-b7d9a3387932",
   "metadata": {},
   "source": [
    "## Build the model"
   ]
  },
  {
   "cell_type": "code",
   "execution_count": 31,
   "id": "490dd5fe-de7b-43a9-892d-d35734171c70",
   "metadata": {},
   "outputs": [],
   "source": [
    "# Hyperparameters\n",
    "\n",
    "# Network architecture parameters\n",
    "Phi_sizes = [100, 100, 256]\n",
    "F_sizes = [100, 100, 100]\n",
    "\n",
    "# Network training parameters\n",
    "n_epochs = 10\n",
    "batch_size = 500"
   ]
  },
  {
   "cell_type": "code",
   "execution_count": 30,
   "id": "d003f75f-c0f5-4a24-b63c-715cb8a76d04",
   "metadata": {
    "tags": []
   },
   "outputs": [
    {
     "name": "stdout",
     "output_type": "stream",
     "text": [
      "Model: \"model_6\"\n",
      "__________________________________________________________________________________________________\n",
      " Layer (type)                   Output Shape         Param #     Connected to                     \n",
      "==================================================================================================\n",
      " input (InputLayer)             [(None, None, 5)]    0           []                               \n",
      "                                                                                                  \n",
      " tdist_0 (TimeDistributed)      (None, None, 100)    600         ['input[0][0]']                  \n",
      "                                                                                                  \n",
      " activation_42 (Activation)     (None, None, 100)    0           ['tdist_0[0][0]']                \n",
      "                                                                                                  \n",
      " tdist_1 (TimeDistributed)      (None, None, 100)    10100       ['activation_42[0][0]']          \n",
      "                                                                                                  \n",
      " activation_43 (Activation)     (None, None, 100)    0           ['tdist_1[0][0]']                \n",
      "                                                                                                  \n",
      " tdist_2 (TimeDistributed)      (None, None, 256)    25856       ['activation_43[0][0]']          \n",
      "                                                                                                  \n",
      " mask (Lambda)                  (None, None)         0           ['input[0][0]']                  \n",
      "                                                                                                  \n",
      " activation_44 (Activation)     (None, None, 256)    0           ['tdist_2[0][0]']                \n",
      "                                                                                                  \n",
      " sum (Dot)                      (None, 256)          0           ['mask[0][0]',                   \n",
      "                                                                  'activation_44[0][0]']          \n",
      "                                                                                                  \n",
      " dense_0 (Dense)                (None, 100)          25700       ['sum[0][0]']                    \n",
      "                                                                                                  \n",
      " activation_45 (Activation)     (None, 100)          0           ['dense_0[0][0]']                \n",
      "                                                                                                  \n",
      " dense_1 (Dense)                (None, 100)          10100       ['activation_45[0][0]']          \n",
      "                                                                                                  \n",
      " activation_46 (Activation)     (None, 100)          0           ['dense_1[0][0]']                \n",
      "                                                                                                  \n",
      " dense_2 (Dense)                (None, 100)          10100       ['activation_46[0][0]']          \n",
      "                                                                                                  \n",
      " activation_47 (Activation)     (None, 100)          0           ['dense_2[0][0]']                \n",
      "                                                                                                  \n",
      " output (Dense)                 (None, 5)            505         ['activation_47[0][0]']          \n",
      "                                                                                                  \n",
      " activation_48 (Activation)     (None, 5)            0           ['output[0][0]']                 \n",
      "                                                                                                  \n",
      "==================================================================================================\n",
      "Total params: 82,961\n",
      "Trainable params: 82,961\n",
      "Non-trainable params: 0\n",
      "__________________________________________________________________________________________________\n"
     ]
    }
   ],
   "source": [
    "# Might take a few seconds\n",
    "pfn = PFN(input_dim=X.shape[-1],\n",
    "          output_dim=Y.shape[-1],\n",
    "          Phi_sizes=Phi_sizes,\n",
    "          F_sizes=F_sizes)"
   ]
  },
  {
   "cell_type": "code",
   "execution_count": 32,
   "id": "e98d8dde-7a66-448b-990b-69c5f0dfacc2",
   "metadata": {},
   "outputs": [
    {
     "name": "stdout",
     "output_type": "stream",
     "text": [
      "Epoch 1/10\n",
      "1176/1176 [==============================] - 25s 19ms/step - loss: 0.8367 - acc: 0.6932 - val_loss: 0.7223 - val_acc: 0.7460\n",
      "Epoch 2/10\n",
      "1176/1176 [==============================] - 21s 18ms/step - loss: 0.7086 - acc: 0.7490 - val_loss: 0.6930 - val_acc: 0.7567\n",
      "Epoch 3/10\n",
      "1176/1176 [==============================] - 21s 18ms/step - loss: 0.6852 - acc: 0.7586 - val_loss: 0.6680 - val_acc: 0.7659\n",
      "Epoch 4/10\n",
      "1176/1176 [==============================] - 21s 18ms/step - loss: 0.6711 - acc: 0.7648 - val_loss: 0.6586 - val_acc: 0.7690\n",
      "Epoch 5/10\n",
      "1176/1176 [==============================] - 21s 18ms/step - loss: 0.6618 - acc: 0.7681 - val_loss: 0.6694 - val_acc: 0.7638\n",
      "Epoch 6/10\n",
      "1176/1176 [==============================] - 21s 18ms/step - loss: 0.6573 - acc: 0.7692 - val_loss: 0.6495 - val_acc: 0.7725\n",
      "Epoch 7/10\n",
      "1176/1176 [==============================] - 21s 18ms/step - loss: 0.6506 - acc: 0.7720 - val_loss: 0.6501 - val_acc: 0.7728\n",
      "Epoch 8/10\n",
      "1176/1176 [==============================] - 21s 18ms/step - loss: 0.6471 - acc: 0.7734 - val_loss: 0.6395 - val_acc: 0.7773\n",
      "Epoch 9/10\n",
      "1176/1176 [==============================] - 21s 18ms/step - loss: 0.6425 - acc: 0.7750 - val_loss: 0.6387 - val_acc: 0.7770\n",
      "Epoch 10/10\n",
      "1176/1176 [==============================] - 21s 18ms/step - loss: 0.6396 - acc: 0.7759 - val_loss: 0.6352 - val_acc: 0.7774\n"
     ]
    },
    {
     "data": {
      "text/plain": [
       "<keras.callbacks.History at 0x2aec0fedfc70>"
      ]
     },
     "execution_count": 32,
     "metadata": {},
     "output_type": "execute_result"
    }
   ],
   "source": [
    "# Train the model!\n",
    "pfn.fit(X_train, Y_train,\n",
    "        epochs=n_epochs,\n",
    "        batch_size=batch_size,\n",
    "        validation_data=(X_val, Y_val),\n",
    "        verbose=1)"
   ]
  },
  {
   "cell_type": "markdown",
   "id": "569241d9-56d5-406d-aae1-61e0d1c60051",
   "metadata": {},
   "source": [
    "## Evaluate model"
   ]
  },
  {
   "cell_type": "code",
   "execution_count": 36,
   "id": "fe6a6706-7611-4040-b6ad-c2f8d43d05ae",
   "metadata": {},
   "outputs": [
    {
     "name": "stdout",
     "output_type": "stream",
     "text": [
      "400/400 [==============================] - 2s 5ms/step\n"
     ]
    }
   ],
   "source": [
    "# get predictions on test data\n",
    "preds = pfn.predict(X_test, batch_size=500)"
   ]
  },
  {
   "cell_type": "code",
   "execution_count": 37,
   "id": "f6d86911-20fd-40f2-9735-360a13c5affe",
   "metadata": {},
   "outputs": [],
   "source": [
    "test_labels = np.argmax(Y_test, axis=1)\n",
    "pred_labels = np.argmax(preds, axis=1)"
   ]
  },
  {
   "cell_type": "code",
   "execution_count": 38,
   "id": "7526439c-e46b-4712-a1d2-8bbeef700a1c",
   "metadata": {},
   "outputs": [
    {
     "name": "stdout",
     "output_type": "stream",
     "text": [
      "[1. 1. 1. ... 1. 1. 0.]\n",
      "Test accuracy: 0.77748\n"
     ]
    }
   ],
   "source": [
    "mask = (test_labels == pred_labels).astype(float)\n",
    "print(mask)\n",
    "print(f\"Test accuracy: {mask.mean()}\")"
   ]
  }
 ],
 "metadata": {
  "kernelspec": {
   "display_name": "top-tagging",
   "language": "python",
   "name": "top-tagging"
  },
  "language_info": {
   "codemirror_mode": {
    "name": "ipython",
    "version": 3
   },
   "file_extension": ".py",
   "mimetype": "text/x-python",
   "name": "python",
   "nbconvert_exporter": "python",
   "pygments_lexer": "ipython3",
   "version": "3.10.10"
  }
 },
 "nbformat": 4,
 "nbformat_minor": 5
}
