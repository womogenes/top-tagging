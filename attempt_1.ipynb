{
 "cells": [
  {
   "cell_type": "markdown",
   "id": "99a6b521",
   "metadata": {},
   "source": [
    "# Lab 4 Report: \n",
    "## Surpass Human Performance in Fashion MNIST Classificaion"
   ]
  },
  {
   "attachments": {},
   "cell_type": "markdown",
   "id": "b113a4a8",
   "metadata": {},
   "source": [
    "### Name: William Y. Feng"
   ]
  },
  {
   "cell_type": "code",
   "execution_count": 101,
   "id": "835b6358",
   "metadata": {},
   "outputs": [],
   "source": [
    "import matplotlib.pyplot as plt\n",
    "\n",
    "import torch\n",
    "import numpy as np"
   ]
  },
  {
   "cell_type": "markdown",
   "id": "9dcc1fbb",
   "metadata": {},
   "source": [
    "## Prepare Data"
   ]
  },
  {
   "cell_type": "code",
   "execution_count": 103,
   "id": "5dfa7da9",
   "metadata": {},
   "outputs": [
    {
     "name": "stdout",
     "output_type": "stream",
     "text": [
      "Training Features Shape:  (99500, 32, 32)\n",
      "Training Targets Shape:  (99500,)\n",
      "Testing Features Shape:  (500, 32, 32)\n",
      "Testing Targets Shape:  (500,)\n"
     ]
    }
   ],
   "source": [
    "# 10000 training features/targets where each feature is a greyscale image with shape (100, 100)\n",
    "# ~20 seconds\n",
    "data_dir = \"./data/jets-100k-preprocessed\"\n",
    "\n",
    "raw_train_features = np.load(f\"{data_dir}/jets-train-features.npy\")\n",
    "train_targets = np.load(f\"{data_dir}/jets-train-targets.npy\")\n",
    "\n",
    "# 1000 testing features/targets \n",
    "raw_test_features = np.load(f\"{data_dir}/jets-test-features.npy\")\n",
    "test_targets = np.load(f\"{data_dir}/jets-test-targets.npy\")\n",
    "\n",
    "# Let's see the shapes of training/testing datasets\n",
    "print(\"Training Features Shape: \", raw_train_features.shape)\n",
    "print(\"Training Targets Shape: \", train_targets.shape)\n",
    "print(\"Testing Features Shape: \", raw_test_features.shape)\n",
    "print(\"Testing Targets Shape: \", test_targets.shape)"
   ]
  },
  {
   "cell_type": "code",
   "execution_count": 104,
   "id": "6bbbc0f6",
   "metadata": {},
   "outputs": [],
   "source": [
    "# Shuffle things around\n",
    "import random\n",
    "\n",
    "M_train = raw_train_features.shape[0]\n",
    "train_indices = list(range(M_train))\n",
    "random.shuffle(train_indices)\n",
    "\n",
    "raw_train_features = raw_train_features[train_indices]\n",
    "train_targets = train_targets[train_indices]\n",
    "\n",
    "\n",
    "M_test = raw_test_features.shape[0]\n",
    "test_indices = list(range(M_test))\n",
    "random.shuffle(test_indices)\n",
    "\n",
    "raw_test_features = raw_test_features[test_indices]\n",
    "test_targets = test_targets[test_indices]"
   ]
  },
  {
   "cell_type": "code",
   "execution_count": 105,
   "id": "25c1e6ec",
   "metadata": {},
   "outputs": [
    {
     "data": {
      "text/plain": [
       "<matplotlib.image.AxesImage at 0x2084692c160>"
      ]
     },
     "execution_count": 105,
     "metadata": {},
     "output_type": "execute_result"
    },
    {
     "data": {
      "image/png": "[encoded data removed]",
      "text/plain": [
       "<Figure size 720x720 with 3 Axes>"
      ]
     },
     "metadata": {},
     "output_type": "display_data"
    }
   ],
   "source": [
    "# Visualizing the first three training features (samples)\n",
    "\n",
    "plt.figure(figsize = (10, 10))\n",
    "\n",
    "plt.subplot(1,3,1)\n",
    "plt.imshow(raw_train_features[0], cmap = 'Greys')\n",
    "\n",
    "plt.subplot(1,3,2)\n",
    "plt.imshow(raw_train_features[1], cmap = 'Greys')\n",
    "\n",
    "plt.subplot(1,3,3)\n",
    "plt.imshow(raw_train_features[2], cmap = 'Greys')"
   ]
  },
  {
   "cell_type": "code",
   "execution_count": 106,
   "id": "d0843695",
   "metadata": {},
   "outputs": [
    {
     "data": {
      "image/png": "[encoded data removed]",
      "text/plain": [
       "<Figure size 1440x1440 with 5 Axes>"
      ]
     },
     "metadata": {},
     "output_type": "display_data"
    }
   ],
   "source": [
    "# Visualize some test data\n",
    "import random\n",
    "\n",
    "M = raw_test_features.shape[0]\n",
    "indices = random.sample(range(M), 5)\n",
    "\n",
    "plt.figure(figsize=(20, 20))\n",
    "\n",
    "for i, idx in enumerate(indices):\n",
    "    plt.subplot(1, 5, i + 1)\n",
    "    plt.imshow(raw_test_features[idx], cmap=\"Greys\")\n",
    "    plt.xlabel(test_targets[idx])"
   ]
  },
  {
   "cell_type": "code",
   "execution_count": 107,
   "id": "ac9be3f7",
   "metadata": {},
   "outputs": [],
   "source": [
    "# Perform standard scaling on the training and testing features\n",
    "# After scaling, make sure you reshape the training features back to (10000, 28, 28) and testing features to (1000, 28, 28)\n",
    "# since CNNs take 2D tensors as inputs\n",
    "from sklearn.preprocessing import StandardScaler\n",
    "scaler = StandardScaler()\n",
    "\n",
    "def scale_features(features):\n",
    "    flattened = features.reshape(features.shape[0], -1)\n",
    "    scaled = scaler.fit_transform(flattened)\n",
    "    return scaled.reshape(features.shape)\n",
    "\n",
    "train_features = scale_features(raw_train_features)\n",
    "test_features = scale_features(raw_test_features)"
   ]
  },
  {
   "cell_type": "code",
   "execution_count": 108,
   "id": "a2025caf",
   "metadata": {},
   "outputs": [],
   "source": [
    "# Take the first 1000 (or randomly select 1000) training features and targets as validation set\n",
    "validation_features = train_features[:500]\n",
    "validation_targets = train_targets[:500]\n",
    "\n",
    "# Take the remaining 9000 training features and targets as training set\n",
    "train_features = train_features[500:]\n",
    "train_targets = train_targets[500:]"
   ]
  },
  {
   "cell_type": "code",
   "execution_count": 109,
   "id": "8c8f2369",
   "metadata": {},
   "outputs": [],
   "source": [
    "# Reshape train/validation/test sets to conform to PyTorch's (N, Channels, Height, Width) standard for CNNs\n",
    "train_features = np.expand_dims(train_features, 1)\n",
    "validation_features = np.expand_dims(validation_features, 1)\n",
    "test_features = np.expand_dims(test_features, 1)"
   ]
  },
  {
   "cell_type": "markdown",
   "id": "9b3ac541",
   "metadata": {},
   "source": [
    "## Define Model"
   ]
  },
  {
   "cell_type": "code",
   "execution_count": 110,
   "id": "c8355384",
   "metadata": {},
   "outputs": [],
   "source": [
    "class CNNModel(torch.nn.Module):\n",
    "\n",
    "    def __init__(self):\n",
    "        super(CNNModel, self).__init__()\n",
    "        # Let's use LeNet: https://en.wikipedia.org/wiki/LeNet#/media/File:Comparison_image_neural_networks.svg\n",
    "\n",
    "        self.cnn1 = torch.nn.Conv2d(in_channels=1, out_channels=12, kernel_size=5, stride=1, padding=2)\n",
    "        self.maxpool1 = torch.nn.MaxPool2d(kernel_size=2)\n",
    "        self.maxpool1_bn = torch.nn.BatchNorm2d(12)\n",
    "\n",
    "        self.cnn2 = torch.nn.Conv2d(in_channels=12, out_channels=24, kernel_size=5, stride=1, padding=2)\n",
    "        self.maxpool2 = torch.nn.MaxPool2d(kernel_size=2)\n",
    "        self.maxpool2_bn = torch.nn.BatchNorm2d(24)\n",
    "\n",
    "        self.fc1 = torch.nn.Linear(24 * 8 * 8, 10)\n",
    "        \n",
    "\n",
    "    def forward(self, x):\n",
    "        # Note: If you are using CrossEntropyLoss() do NOT apply softmax to the final output\n",
    "        # since it's incorporated within the loss function\n",
    "\n",
    "        relu = torch.nn.functional.relu\n",
    "\n",
    "        conv1_out = relu(self.cnn1(x))\n",
    "        pool1_out = self.maxpool1(conv1_out)\n",
    "        pool1_out_bn = self.maxpool1_bn(pool1_out)\n",
    "\n",
    "        conv2_out = relu(self.cnn2(pool1_out_bn))\n",
    "        pool2_out = self.maxpool2(conv2_out)\n",
    "        pool2_out_bn = self.maxpool2_bn(pool2_out)\n",
    "\n",
    "        fcn_input = pool2_out.view(pool2_out_bn.size(0), -1)\n",
    "        fc1_out = self.fc1(fcn_input)\n",
    "\n",
    "        return fc1_out"
   ]
  },
  {
   "cell_type": "markdown",
   "id": "b9624830",
   "metadata": {},
   "source": [
    "## Select Hyperparameters"
   ]
  },
  {
   "cell_type": "code",
   "execution_count": 168,
   "id": "1d668a01",
   "metadata": {},
   "outputs": [],
   "source": [
    "# Fix the random seed so that model performance is reproducible\n",
    "torch.manual_seed(55)\n",
    "\n",
    "# Initialize your CNN model\n",
    "\n",
    "model = CNNModel()\n",
    "\n",
    "# Define learning rate, epoch and batchsize for mini-batch gradient\n",
    "\n",
    "learning_rate = 1e-3\n",
    "epochs = 10\n",
    "batchsize = 10\n",
    "\n",
    "# Define loss function and optimizer\n",
    "\n",
    "loss_func = torch.nn.CrossEntropyLoss()\n",
    "optimizer = torch.optim.Adam(model.parameters(), lr=learning_rate)\n",
    "\n",
    "if torch.cuda.is_available():\n",
    "    model.to(0)\n",
    "\n",
    "import gc\n",
    "gc.collect()\n",
    "torch.cuda.empty_cache()"
   ]
  },
  {
   "cell_type": "markdown",
   "id": "9c3045df",
   "metadata": {},
   "source": [
    "## Identify Tracked Values"
   ]
  },
  {
   "cell_type": "code",
   "execution_count": 169,
   "id": "638259ed",
   "metadata": {},
   "outputs": [],
   "source": [
    "# Placeholders for training loss and validation accuracy during training\n",
    "# Training loss should be tracked for each iteration (1 iteration -> single forward pass to the network)\n",
    "# Validation accuracy should be evaluated every 'Epoch' (1 epoch -> full training dataset)\n",
    "# If using batch gradient, 1 iteration = 1 epoch\n",
    "\n",
    "train_loss_list = []\n",
    "train_accuracy_list = []\n",
    "validation_accuracy_list = []"
   ]
  },
  {
   "cell_type": "markdown",
   "id": "a1fbc523",
   "metadata": {},
   "source": [
    "## Train Model"
   ]
  },
  {
   "cell_type": "code",
   "execution_count": 170,
   "id": "02a5f590",
   "metadata": {},
   "outputs": [
    {
     "name": "stderr",
     "output_type": "stream",
     "text": [
      "100%|███████████████████████████████████████████| 10/10 [00:27<00:00,  2.79s/it]\n"
     ]
    }
   ],
   "source": [
    "import tqdm # Use \"for epoch in tqdm.trange(epochs):\" to see the progress bar\n",
    "\n",
    "# Convert the training, validation, testing dataset (NumPy arrays) into torch tensors\n",
    "# Split your training features/targets into mini-batches if using mini-batch gradient\n",
    "\n",
    "torch_validate_features = torch.from_numpy(validation_features).float().to(0)\n",
    "torch_validate_targets = torch.from_numpy(validation_targets).long().to(0)\n",
    "\n",
    "def to_torch_float(arr):\n",
    "    return torch.from_numpy(arr).float().to(0)\n",
    "    \n",
    "def to_torch_long(arr):\n",
    "    return torch.from_numpy(arr).long().to(0)\n",
    "\n",
    "train_batched_features = np.array_split(train_features, batchsize)\n",
    "train_batched_targets = np.array_split(train_targets, batchsize)\n",
    "\n",
    "batch_split_num = len(train_batched_features)\n",
    "\n",
    "# Training Loop ---------------------------------------------------------------------------------------\n",
    "for epoch in tqdm.trange(epochs, ncols=80):    \n",
    "    for b in range(batch_split_num):\n",
    "        optimizer.zero_grad()\n",
    "\n",
    "        outputs = model(to_torch_float(train_batched_features[b]))\n",
    "        loss = loss_func(outputs, to_torch_long(train_batched_targets[b]))\n",
    "        loss.backward() # Compute gradients\n",
    "        \n",
    "        train_loss_list.append(loss.item())\n",
    "\n",
    "        optimizer.step() # Update parameters\n",
    "    \n",
    "\n",
    "    # Compute Validation Accuracy\n",
    "    # ----------------------------------------------------------------------\n",
    "\n",
    "    with torch.no_grad():\n",
    "        predictions = torch.argmax(model(torch_validate_features), dim=1)\n",
    "        correct = predictions == torch_validate_targets\n",
    "        accuracy = torch.mean(correct.type(torch.FloatTensor))\n",
    "        validation_accuracy_list.append(accuracy.item() * 100)"
   ]
  },
  {
   "cell_type": "markdown",
   "id": "adf9a22e",
   "metadata": {},
   "source": [
    "## Visualize & Evaluate Model"
   ]
  },
  {
   "cell_type": "code",
   "execution_count": 171,
   "id": "3bc0863f",
   "metadata": {},
   "outputs": [],
   "source": [
    "# Seaborn for prettier plot\n",
    "import seaborn as sns\n",
    "sns.set(style = 'ticks', font_scale = 1.5)"
   ]
  },
  {
   "cell_type": "code",
   "execution_count": 172,
   "id": "b23f333c",
   "metadata": {},
   "outputs": [
    {
     "data": {
      "text/plain": [
       "Text(0.5, 0, 'iterations')"
      ]
     },
     "execution_count": 172,
     "metadata": {},
     "output_type": "execute_result"
    },
    {
     "data": {
      "image/png": "[encoded data removed]",
      "text/plain": [
       "<Figure size 864x864 with 2 Axes>"
      ]
     },
     "metadata": {},
     "output_type": "display_data"
    }
   ],
   "source": [
    "# Visualize training loss\n",
    "\n",
    "plt.figure(figsize = (12, 12))\n",
    "\n",
    "plt.subplot(3, 1, 1)\n",
    "plt.plot(train_loss_list, linewidth = 3)\n",
    "plt.ylabel(\"training loss\")\n",
    "sns.despine()\n",
    "\n",
    "\"\"\" plt.subplot(3, 1, 2)\n",
    "plt.plot(train_accuracy_list, linewidth = 3, color = 'red')\n",
    "plt.ylabel(\"training accuracy\")\n",
    "sns.despine() \"\"\"\n",
    "\n",
    "plt.subplot(3, 1, 2)\n",
    "plt.plot(validation_accuracy_list, linewidth = 3, color = 'gold')\n",
    "plt.ylabel(\"validation accuracy\")\n",
    "sns.despine()\n",
    "plt.xlabel(\"iterations\")"
   ]
  },
  {
   "cell_type": "code",
   "execution_count": 173,
   "id": "8a4a1dea",
   "metadata": {},
   "outputs": [
    {
     "name": "stdout",
     "output_type": "stream",
     "text": [
      "Validation accuracy: 59.4%\n"
     ]
    }
   ],
   "source": [
    "print(f\"Validation accuracy: {round(validation_accuracy_list[-1], 3)}%\")"
   ]
  },
  {
   "cell_type": "code",
   "execution_count": 176,
   "id": "ee8589b6",
   "metadata": {},
   "outputs": [
    {
     "name": "stdout",
     "output_type": "stream",
     "text": [
      "Testing accuracy: 59.6%\n"
     ]
    },
    {
     "ename": "",
     "evalue": "",
     "output_type": "error",
     "traceback": [
      "\u001b[1;31mThe Kernel crashed while executing code in the the current cell or a previous cell. Please review the code in the cell(s) to identify a possible cause of the failure. Click <a href='https://aka.ms/vscodeJupyterKernelCrash'>here</a> for more info. View Jupyter <a href='command:jupyter.viewOutput'>log</a> for further details."
     ]
    }
   ],
   "source": [
    "# Compute the testing accuracy \n",
    "torch_test_inputs = torch.from_numpy(test_features).float().to(0)\n",
    "torch_test_targets = torch.from_numpy(test_targets).long().to(0)\n",
    "\n",
    "with torch.no_grad():\n",
    "    test_predictions = torch.argmax(model(torch_test_inputs), dim=1)\n",
    "    correct = (test_predictions == torch_test_targets).type(torch.FloatTensor)\n",
    "    accuracy = torch.mean(correct.type(torch.FloatTensor)).item() * 100\n",
    "\n",
    "print(f\"Testing accuracy: {round(accuracy, 3)}%\")"
   ]
  },
  {
   "cell_type": "code",
   "execution_count": 175,
   "id": "95a5fdb2",
   "metadata": {
    "scrolled": true
   },
   "outputs": [
    {
     "name": "stdout",
     "output_type": "stream",
     "text": [
      "Accuracy of Gluon:        66.7%\n",
      "Accuracy of Light quark:  56.3%\n",
      "Accuracy of W boson:      48.7%\n",
      "Accuracy of Z boson:      52.8%\n",
      "Accuracy of Top quark:    70.3%\n"
     ]
    }
   ],
   "source": [
    "labels = [\n",
    "    \"Gluon\",\n",
    "    \"Light quark\",\n",
    "    \"W boson\",\n",
    "    \"Z boson\",\n",
    "    \"Top quark\"\n",
    "]\n",
    "\n",
    "for i in range(len(labels)):\n",
    "    indices = np.where(test_targets == i)[0]\n",
    "    predictions = test_predictions[indices].cpu().numpy()\n",
    "    targets = test_targets[indices]\n",
    "    accuracy = np.mean((predictions == targets).astype(float))\n",
    "\n",
    "    print(f\"Accuracy of {labels[i]}:\".ljust(25), f\"{round(accuracy * 100, 1)}%\")"
   ]
  },
  {
   "cell_type": "code",
   "execution_count": null,
   "id": "b7b92c89",
   "metadata": {},
   "outputs": [],
   "source": []
  }
 ],
 "metadata": {
  "kernelspec": {
   "display_name": "Python 3",
   "language": "python",
   "name": "python3"
  },
  "language_info": {
   "codemirror_mode": {
    "name": "ipython",
    "version": 3
   },
   "file_extension": ".py",
   "mimetype": "text/x-python",
   "name": "python",
   "nbconvert_exporter": "python",
   "pygments_lexer": "ipython3",
   "version": "3.10.5"
  },
  "vscode": {
   "interpreter": {
    "hash": "9a5507c129a05bfdc77ef541b8cef54ca34be21723ca2ada5f657bc6ecbd397c"
   }
  }
 },
 "nbformat": 4,
 "nbformat_minor": 5
}
