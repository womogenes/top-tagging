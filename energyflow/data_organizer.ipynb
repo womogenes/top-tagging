{
 "cells": [
  {
   "cell_type": "markdown",
   "id": "d32212d1-53f0-475e-a386-92b466f584ec",
   "metadata": {
    "tags": []
   },
   "source": [
    "# Data organizer\n",
    "\n",
    "Organize some of the jet files; pad them, etc."
   ]
  },
  {
   "cell_type": "code",
   "execution_count": 1,
   "id": "f1c3e4ce-7b53-47fa-a3f3-33712f48de66",
   "metadata": {},
   "outputs": [],
   "source": [
    "import os\n",
    "from tqdm import tqdm\n",
    "\n",
    "import numpy as np\n",
    "\n",
    "from matplotlib import pyplot as plt"
   ]
  },
  {
   "cell_type": "code",
   "execution_count": 2,
   "id": "74b19aa3-0108-441b-a9e6-3b26c050e144",
   "metadata": {},
   "outputs": [],
   "source": [
    "# Configuration\n",
    "plt.rcParams[\"figure.dpi\"] = 80\n",
    "plt.rcParams[\"font.family\"] = \"serif\""
   ]
  },
  {
   "cell_type": "code",
   "execution_count": 3,
   "id": "ad750b41-ff3a-4978-abbb-367acc7739fb",
   "metadata": {},
   "outputs": [],
   "source": [
    "data_dir = \"/usatlas/atlas01/atlasdisk/users/atlas_wifeng/phys427/top-tagging/data\""
   ]
  },
  {
   "cell_type": "code",
   "execution_count": 4,
   "id": "4e26673a-3c3e-4a4e-a6c7-cf514dedd95e",
   "metadata": {},
   "outputs": [],
   "source": [
    "jet_files = sorted(os.listdir(f\"{data_dir}/jets\"))"
   ]
  },
  {
   "cell_type": "code",
   "execution_count": 5,
   "id": "0b2bb734-43b0-4e00-bb10-d6ab5e301e4c",
   "metadata": {},
   "outputs": [],
   "source": [
    "# Extract jet files\n",
    "N = len(jet_files)\n",
    "X = [None] * N\n",
    "y = [None] * N"
   ]
  },
  {
   "cell_type": "code",
   "execution_count": 6,
   "id": "8101b7fd-4db6-4937-a897-abce1a7c4a8f",
   "metadata": {},
   "outputs": [
    {
     "name": "stderr",
     "output_type": "stream",
     "text": [
      "100%|██████████| 987683/987683 [48:21<00:00, 340.35it/s]\n"
     ]
    }
   ],
   "source": [
    "for i, file in enumerate(tqdm(jet_files[:N])):\n",
    "    jet = np.load(f\"{data_dir}/jets/{file}\")\n",
    "    X[i] = jet[\"x\"]\n",
    "    y[i] = jet[\"y\"]"
   ]
  },
  {
   "cell_type": "markdown",
   "id": "4431b43c-85e6-4fa9-82fa-f821649d96ba",
   "metadata": {
    "tags": []
   },
   "source": [
    "## Analyze inputs"
   ]
  },
  {
   "cell_type": "code",
   "execution_count": 12,
   "id": "b0fa3dce-a6d8-4b2d-a7ac-f67c48871d48",
   "metadata": {},
   "outputs": [
    {
     "name": "stdout",
     "output_type": "stream",
     "text": [
      "Maximum jet size: 212\n"
     ]
    },
    {
     "data": {
      "image/png": "[encoded data removed]",
      "text/plain": [
       "<Figure size 512x384 with 1 Axes>"
      ]
     },
     "metadata": {},
     "output_type": "display_data"
    }
   ],
   "source": [
    "jet_sizes = [jet.shape[0] for jet in X_new]\n",
    "plt.hist(jet_sizes, bins=20)\n",
    "plt.xlabel(\"Jet size\")\n",
    "plt.ylabel(\"Frequency\");\n",
    "\n",
    "max_jet_size = max(jet_sizes)\n",
    "print(f\"Maximum jet size: {max_jet_size}\")"
   ]
  },
  {
   "cell_type": "code",
   "execution_count": 13,
   "id": "0753040f-2557-492d-a36f-ebf0fada56bb",
   "metadata": {},
   "outputs": [
    {
     "name": "stderr",
     "output_type": "stream",
     "text": [
      "100%|██████████| 987683/987683 [01:42<00:00, 9674.07it/s]\n"
     ]
    }
   ],
   "source": [
    "# Pad out everything\n",
    "for i in tqdm(range(N)):\n",
    "    pad_required = max_jet_size - X[i].shape[0]    \n",
    "    X[i] = np.pad(\n",
    "        X[i],\n",
    "        pad_width=[(0, pad_required), (0, 0)],\n",
    "        constant_values=0\n",
    "    )"
   ]
  },
  {
   "cell_type": "code",
   "execution_count": 23,
   "id": "a1b2bd21-676a-4180-884f-7f1a77ec4df0",
   "metadata": {},
   "outputs": [],
   "source": [
    "# Save this!\n",
    "np.savez(f\"{data_dir}/jets-988K-padded.npz\", X=X_np, y=y)"
   ]
  }
 ],
 "metadata": {
  "kernelspec": {
   "display_name": "top-tagging",
   "language": "python",
   "name": "top-tagging"
  },
  "language_info": {
   "codemirror_mode": {
    "name": "ipython",
    "version": 3
   },
   "file_extension": ".py",
   "mimetype": "text/x-python",
   "name": "python",
   "nbconvert_exporter": "python",
   "pygments_lexer": "ipython3",
   "version": "3.10.10"
  }
 },
 "nbformat": 4,
 "nbformat_minor": 5
}
