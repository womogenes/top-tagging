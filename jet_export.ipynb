{
 "cells": [
  {
   "cell_type": "code",
   "execution_count": 1,
   "metadata": {},
   "outputs": [
    {
     "ename": "ModuleNotFoundError",
     "evalue": "No module named 'matplotlib'",
     "output_type": "error",
     "traceback": [
      "\u001b[0;31m---------------------------------------------------------------------------\u001b[0m",
      "\u001b[0;31mModuleNotFoundError\u001b[0m                       Traceback (most recent call last)",
      "Cell \u001b[0;32mIn[1], line 2\u001b[0m\n\u001b[1;32m      1\u001b[0m \u001b[38;5;28;01mfrom\u001b[39;00m \u001b[38;5;21;01mtqdm\u001b[39;00m \u001b[38;5;28;01mimport\u001b[39;00m tqdm\n\u001b[0;32m----> 2\u001b[0m \u001b[38;5;28;01mfrom\u001b[39;00m \u001b[38;5;21;01mmatplotlib\u001b[39;00m \u001b[38;5;28;01mimport\u001b[39;00m pyplot \u001b[38;5;28;01mas\u001b[39;00m plt\n\u001b[1;32m      4\u001b[0m \u001b[38;5;28;01mimport\u001b[39;00m \u001b[38;5;21;01mnumpy\u001b[39;00m \u001b[38;5;28;01mas\u001b[39;00m \u001b[38;5;21;01mnp\u001b[39;00m\n",
      "\u001b[0;31mModuleNotFoundError\u001b[0m: No module named 'matplotlib'"
     ]
    }
   ],
   "source": [
    "from tqdm import tqdm\n",
    "from matplotlib import pyplot as plt\n",
    "\n",
    "import numpy as np"
   ]
  },
  {
   "cell_type": "code",
   "execution_count": 3,
   "metadata": {},
   "outputs": [],
   "source": [
    "def jet_to_img(jet, resolution=32, bound=0.5):\n",
    "    image = np.histogram2d(\n",
    "        x=jet[:, 1],  # eta\n",
    "        y=jet[:, 2],  # phi\n",
    "        bins=resolution,\n",
    "        range=[(-bound, bound)] * 2,\n",
    "        weights=-np.log(jet[:, 3])  # energies\n",
    "    )[0]\n",
    "    image = np.log(np.maximum(image, 1))\n",
    "    return image ** 2"
   ]
  },
  {
   "cell_type": "code",
   "execution_count": 4,
   "metadata": {},
   "outputs": [],
   "source": [
    "# 100k jets\n",
    "n_jets = 10 ** 5\n",
    "resolution = 32"
   ]
  },
  {
   "cell_type": "code",
   "execution_count": 7,
   "metadata": {},
   "outputs": [
    {
     "name": "stderr",
     "output_type": "stream",
     "text": [
      " 62%|██████████████████████████████████▏                    | 62114/100000 [09:48<05:58, 105.58it/s]\n"
     ]
    },
    {
     "ename": "ValueError",
     "evalue": "Cannot load file containing pickled data when allow_pickle=False",
     "output_type": "error",
     "traceback": [
      "\u001b[1;31m---------------------------------------------------------------------------\u001b[0m",
      "\u001b[1;31mValueError\u001b[0m                                Traceback (most recent call last)",
      "\u001b[1;32md:\\Users\\willi\\Documents\\_\\Coding\\EPE\\top-tagging\\jet_export.ipynb Cell 4\u001b[0m in \u001b[0;36m<cell line: 6>\u001b[1;34m()\u001b[0m\n\u001b[0;32m      <a href='vscode-notebook-cell:/d%3A/Users/willi/Documents/_/Coding/EPE/top-tagging/jet_export.ipynb#W2sZmlsZQ%3D%3D?line=3'>4</a>\u001b[0m y_new \u001b[39m=\u001b[39m np\u001b[39m.\u001b[39mzeros((n_jets,))\n\u001b[0;32m      <a href='vscode-notebook-cell:/d%3A/Users/willi/Documents/_/Coding/EPE/top-tagging/jet_export.ipynb#W2sZmlsZQ%3D%3D?line=5'>6</a>\u001b[0m \u001b[39mfor\u001b[39;00m i \u001b[39min\u001b[39;00m tqdm(\u001b[39mrange\u001b[39m(n_jets), ncols\u001b[39m=\u001b[39m\u001b[39m100\u001b[39m):\n\u001b[1;32m----> <a href='vscode-notebook-cell:/d%3A/Users/willi/Documents/_/Coding/EPE/top-tagging/jet_export.ipynb#W2sZmlsZQ%3D%3D?line=6'>7</a>\u001b[0m     jet \u001b[39m=\u001b[39m np\u001b[39m.\u001b[39;49mload(\u001b[39mf\u001b[39;49m\u001b[39m\"\u001b[39;49m\u001b[39m./data/jets-sample/event_\u001b[39;49m\u001b[39m{\u001b[39;49;00m\u001b[39mstr\u001b[39;49m(i)\u001b[39m.\u001b[39;49mzfill(\u001b[39m7\u001b[39;49m)\u001b[39m}\u001b[39;49;00m\u001b[39m.npz\u001b[39;49m\u001b[39m\"\u001b[39;49m)\n\u001b[0;32m      <a href='vscode-notebook-cell:/d%3A/Users/willi/Documents/_/Coding/EPE/top-tagging/jet_export.ipynb#W2sZmlsZQ%3D%3D?line=7'>8</a>\u001b[0m     X_new[i,:,:] \u001b[39m=\u001b[39m jet_to_img(jet[\u001b[39m\"\u001b[39m\u001b[39mx\u001b[39m\u001b[39m\"\u001b[39m], resolution)\n\u001b[0;32m      <a href='vscode-notebook-cell:/d%3A/Users/willi/Documents/_/Coding/EPE/top-tagging/jet_export.ipynb#W2sZmlsZQ%3D%3D?line=8'>9</a>\u001b[0m     y_new[i] \u001b[39m=\u001b[39m np\u001b[39m.\u001b[39margmax(jet[\u001b[39m\"\u001b[39m\u001b[39my\u001b[39m\u001b[39m\"\u001b[39m])\n",
      "File \u001b[1;32mc:\\Users\\willi\\AppData\\Local\\Programs\\Python\\Python310\\lib\\site-packages\\numpy\\lib\\npyio.py:418\u001b[0m, in \u001b[0;36mload\u001b[1;34m(file, mmap_mode, allow_pickle, fix_imports, encoding)\u001b[0m\n\u001b[0;32m    415\u001b[0m \u001b[39melse\u001b[39;00m:\n\u001b[0;32m    416\u001b[0m     \u001b[39m# Try a pickle\u001b[39;00m\n\u001b[0;32m    417\u001b[0m     \u001b[39mif\u001b[39;00m \u001b[39mnot\u001b[39;00m allow_pickle:\n\u001b[1;32m--> 418\u001b[0m         \u001b[39mraise\u001b[39;00m \u001b[39mValueError\u001b[39;00m(\u001b[39m\"\u001b[39m\u001b[39mCannot load file containing pickled data \u001b[39m\u001b[39m\"\u001b[39m\n\u001b[0;32m    419\u001b[0m                          \u001b[39m\"\u001b[39m\u001b[39mwhen allow_pickle=False\u001b[39m\u001b[39m\"\u001b[39m)\n\u001b[0;32m    420\u001b[0m     \u001b[39mtry\u001b[39;00m:\n\u001b[0;32m    421\u001b[0m         \u001b[39mreturn\u001b[39;00m pickle\u001b[39m.\u001b[39mload(fid, \u001b[39m*\u001b[39m\u001b[39m*\u001b[39mpickle_kwargs)\n",
      "\u001b[1;31mValueError\u001b[0m: Cannot load file containing pickled data when allow_pickle=False"
     ]
    }
   ],
   "source": [
    "# Turn images into training data\n",
    "# ~3 seconds\n",
    "X_new = np.zeros((n_jets, resolution, resolution))\n",
    "y_new = np.zeros((n_jets,))\n",
    "\n",
    "for i in tqdm(range(n_jets), ncols=100):\n",
    "    jet = np.load(f\"./data/jets/event_{str(i).zfill(7)}.npz\")\n",
    "    X_new[i,:,:] = jet_to_img(jet[\"x\"], resolution)\n",
    "    y_new[i] = np.argmax(jet[\"y\"])"
   ]
  },
  {
   "cell_type": "code",
   "execution_count": 9,
   "metadata": {},
   "outputs": [
    {
     "name": "stderr",
     "output_type": "stream",
     "text": [
      "100%|█████████████████████████████████████████████████████████| 37886/37886 [21:06<00:00, 29.91it/s]\n"
     ]
    }
   ],
   "source": [
    "for i in tqdm(range(62114, n_jets), ncols=100):\n",
    "    jet = np.load(f\"./data/jets/event_{str(i).zfill(7)}.npz\")\n",
    "    X_new[i,:,:] = jet_to_img(jet[\"x\"], resolution)\n",
    "    y_new[i] = np.argmax(jet[\"y\"])"
   ]
  },
  {
   "cell_type": "code",
   "execution_count": 10,
   "metadata": {},
   "outputs": [],
   "source": [
    "# Save these to a folder\n",
    "n_train = 99500\n",
    "n_test = 500\n",
    "\n",
    "save_dir = \"./data/jets-100k-preprocessed\"\n",
    "np.save(f\"{save_dir}/jets-train-features.npy\", X_new[:n_train])\n",
    "np.save(f\"{save_dir}/jets-train-targets.npy\", y_new[:n_train])\n",
    "\n",
    "np.save(f\"{save_dir}/jets-test-features.npy\", X_new[n_train:(n_train + n_test)])\n",
    "np.save(f\"{save_dir}/jets-test-targets.npy\", y_new[n_train:(n_train + n_test)])"
   ]
  },
  {
   "cell_type": "code",
   "execution_count": 11,
   "metadata": {},
   "outputs": [
    {
     "name": "stdout",
     "output_type": "stream",
     "text": [
      "X_new.shape: (100000, 32, 32)\n",
      "y_new.shape: (100000,)\n"
     ]
    }
   ],
   "source": [
    "print(\"X_new.shape:\", X_new.shape)\n",
    "print(\"y_new.shape:\", y_new.shape)"
   ]
  },
  {
   "cell_type": "code",
   "execution_count": null,
   "metadata": {},
   "outputs": [],
   "source": []
  }
 ],
 "metadata": {
  "kernelspec": {
   "display_name": "spvnas-1",
   "language": "python",
   "name": "spvnas-1"
  },
  "language_info": {
   "codemirror_mode": {
    "name": "ipython",
    "version": 3
   },
   "file_extension": ".py",
   "mimetype": "text/x-python",
   "name": "python",
   "nbconvert_exporter": "python",
   "pygments_lexer": "ipython3",
   "version": "3.10.8"
  }
 },
 "nbformat": 4,
 "nbformat_minor": 4
}
