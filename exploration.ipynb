{
 "cells": [
  {
   "cell_type": "code",
   "execution_count": 2,
   "metadata": {},
   "outputs": [],
   "source": [
    "import shutil\n",
    "import random\n",
    "import os\n",
    "\n",
    "from tqdm import tqdm\n",
    "from matplotlib import pyplot as plt\n",
    "\n",
    "import numpy as np\n",
    "from sklearn.preprocessing import StandardScaler"
   ]
  },
  {
   "cell_type": "code",
   "execution_count": 4,
   "metadata": {},
   "outputs": [
    {
     "name": "stderr",
     "output_type": "stream",
     "text": [
      "100%|███████████████████████████████████████████████████████████| 1000/1000 [01:43<00:00,  9.71it/s]\n"
     ]
    }
   ],
   "source": [
    "# Copy a couple jets to a different folder\n",
    "if not os.path.isdir(\"./data/jets-sample\"):\n",
    "    os.mkdir(\"./data/jets-sample\")\n",
    "\n",
    "for i in tqdm(range(1000), ncols=100):\n",
    "    file_name = f\"event_{str(i).zfill(7)}.npz\"\n",
    "    shutil.copyfile(f\"./data/jets/{file_name}\", f\"./data/jets-sample/{file_name}\")"
   ]
  },
  {
   "cell_type": "code",
   "execution_count": 4,
   "metadata": {},
   "outputs": [
    {
     "name": "stderr",
     "output_type": "stream",
     "text": [
      "100%|███████████████████████████████████████████████████████████| 1000/1000 [00:36<00:00, 27.33it/s]\n"
     ]
    }
   ],
   "source": [
    "# Collect all features\n",
    "events = []\n",
    "for i in tqdm(range(1000), ncols=100):\n",
    "    events.append(np.load(f\"./data/jets-sample/event_{str(i).zfill(7)}.npz\"))"
   ]
  },
  {
   "cell_type": "code",
   "execution_count": 3,
   "metadata": {},
   "outputs": [],
   "source": [
    "# Normalize all features\n",
    "# They are:\n",
    "#   p_T: transverse momentum (radial)\n",
    "#   eta: angular coordinate\n",
    "#   phi: angular coordinate\n",
    "#   E  : energy\n",
    "#   R  : sqrt(eta^2 + phi^2)\n",
    "\n",
    "scaler = StandardScaler()\n",
    "\n",
    "for event in events:\n",
    "    scaler.fit(event[\"x\"])\n",
    "\n",
    "for i in range(len(events)):\n",
    "    scaler.transform(events[i][\"x\"])"
   ]
  },
  {
   "cell_type": "code",
   "execution_count": 13,
   "metadata": {},
   "outputs": [
    {
     "name": "stderr",
     "output_type": "stream",
     "text": [
      "100%|██████████| 1000/1000 [00:00<00:00, 1157.69it/s]\n"
     ]
    },
    {
     "name": "stdout",
     "output_type": "stream",
     "text": [
      "(52562,)\n"
     ]
    },
    {
     "data": {
      "image/png": "[encoded data removed]",
      "text/plain": [
       "<Figure size 432x288 with 1 Axes>"
      ]
     },
     "metadata": {
      "needs_background": "light"
     },
     "output_type": "display_data"
    }
   ],
   "source": [
    "all_eta = np.array([])\n",
    "for event in tqdm(events):\n",
    "    all_eta = np.hstack((all_eta, event[\"x\"][:, 1]))\n",
    "\n",
    "print(all_eta.shape)\n",
    "\n",
    "plt.hist(all_eta, bins=100);\n",
    "plt.xlabel(\"phi (scaled)\");"
   ]
  },
  {
   "cell_type": "code",
   "execution_count": 12,
   "metadata": {},
   "outputs": [
    {
     "name": "stderr",
     "output_type": "stream",
     "text": [
      "100%|██████████| 1000/1000 [00:01<00:00, 639.12it/s]"
     ]
    },
    {
     "name": "stdout",
     "output_type": "stream",
     "text": [
      "(52562,)\n"
     ]
    },
    {
     "name": "stderr",
     "output_type": "stream",
     "text": [
      "\n"
     ]
    },
    {
     "ename": "NameError",
     "evalue": "name 'all_eta' is not defined",
     "output_type": "error",
     "traceback": [
      "\u001b[1;31m---------------------------------------------------------------------------\u001b[0m",
      "\u001b[1;31mNameError\u001b[0m                                 Traceback (most recent call last)",
      "\u001b[1;32mc:\\Users\\willi\\Documents\\_\\Coding\\EPE\\top-tagging\\exploration.ipynb Cell 6\u001b[0m in \u001b[0;36m<cell line: 7>\u001b[1;34m()\u001b[0m\n\u001b[0;32m      <a href='vscode-notebook-cell:/c%3A/Users/willi/Documents/_/Coding/EPE/top-tagging/exploration.ipynb#W5sZmlsZQ%3D%3D?line=2'>3</a>\u001b[0m     all_phi \u001b[39m=\u001b[39m np\u001b[39m.\u001b[39mhstack((all_phi, event[\u001b[39m\"\u001b[39m\u001b[39mx\u001b[39m\u001b[39m\"\u001b[39m][:, \u001b[39m2\u001b[39m]))\n\u001b[0;32m      <a href='vscode-notebook-cell:/c%3A/Users/willi/Documents/_/Coding/EPE/top-tagging/exploration.ipynb#W5sZmlsZQ%3D%3D?line=4'>5</a>\u001b[0m \u001b[39mprint\u001b[39m(all_phi\u001b[39m.\u001b[39mshape)\n\u001b[1;32m----> <a href='vscode-notebook-cell:/c%3A/Users/willi/Documents/_/Coding/EPE/top-tagging/exploration.ipynb#W5sZmlsZQ%3D%3D?line=6'>7</a>\u001b[0m plt\u001b[39m.\u001b[39mhist(all_eta, bins\u001b[39m=\u001b[39m\u001b[39m100\u001b[39m);\n\u001b[0;32m      <a href='vscode-notebook-cell:/c%3A/Users/willi/Documents/_/Coding/EPE/top-tagging/exploration.ipynb#W5sZmlsZQ%3D%3D?line=7'>8</a>\u001b[0m plt\u001b[39m.\u001b[39mxlabel(\u001b[39m\"\u001b[39m\u001b[39mphi (scaled)\u001b[39m\u001b[39m\"\u001b[39m)\n",
      "\u001b[1;31mNameError\u001b[0m: name 'all_eta' is not defined"
     ]
    }
   ],
   "source": [
    "all_phi = np.array([])\n",
    "for event in tqdm(events):\n",
    "    all_phi = np.hstack((all_phi, event[\"x\"][:, 2]))\n",
    "\n",
    "print(all_phi.shape)\n",
    "\n",
    "plt.hist(all_eta, bins=100);\n",
    "plt.xlabel(\"phi (scaled)\")"
   ]
  },
  {
   "cell_type": "code",
   "execution_count": null,
   "metadata": {},
   "outputs": [],
   "source": [
    "# Normalize energy "
   ]
  },
  {
   "cell_type": "code",
   "execution_count": 16,
   "metadata": {},
   "outputs": [
    {
     "name": "stderr",
     "output_type": "stream",
     "text": [
      "100%|██████████| 1000/1000 [00:02<00:00, 360.75it/s]\n"
     ]
    },
    {
     "name": "stdout",
     "output_type": "stream",
     "text": [
      "(52562,)\n"
     ]
    },
    {
     "data": {
      "text/plain": [
       "Text(0.5, 0, 'energy (scaled)')"
      ]
     },
     "execution_count": 16,
     "metadata": {},
     "output_type": "execute_result"
    },
    {
     "data": {
      "image/png": "[encoded data removed]",
      "text/plain": [
       "<Figure size 432x288 with 1 Axes>"
      ]
     },
     "metadata": {
      "needs_background": "light"
     },
     "output_type": "display_data"
    }
   ],
   "source": [
    "all_energy = np.array([])\n",
    "for event in tqdm(events):\n",
    "    all_energy = np.hstack((all_energy, event[\"x\"][:, 3]))\n",
    "\n",
    "print(all_energy.shape)\n",
    "\n",
    "plt.hist(all_energy, bins=100);\n",
    "plt.xlabel(\"energy (scaled)\")"
   ]
  },
  {
   "cell_type": "code",
   "execution_count": 17,
   "metadata": {},
   "outputs": [
    {
     "name": "stderr",
     "output_type": "stream",
     "text": [
      "100%|██████████| 1000/1000 [00:04<00:00, 248.38it/s]\n"
     ]
    },
    {
     "name": "stdout",
     "output_type": "stream",
     "text": [
      "(52562,)\n"
     ]
    },
    {
     "data": {
      "text/plain": [
       "Text(0.5, 0, 'energy (scaled)')"
      ]
     },
     "execution_count": 17,
     "metadata": {},
     "output_type": "execute_result"
    },
    {
     "data": {
      "image/png": "[encoded data removed]",
      "text/plain": [
       "<Figure size 432x288 with 1 Axes>"
      ]
     },
     "metadata": {
      "needs_background": "light"
     },
     "output_type": "display_data"
    }
   ],
   "source": [
    "all_momentum = np.array([])\n",
    "for event in tqdm(events):\n",
    "    all_momentum = np.hstack((all_momentum, event[\"x\"][:, 0]))\n",
    "\n",
    "print(all_momentum.shape)\n",
    "\n",
    "plt.hist(all_momentum, bins=100);\n",
    "plt.xlabel(\"energy (scaled)\")"
   ]
  },
  {
   "cell_type": "code",
   "execution_count": 18,
   "metadata": {},
   "outputs": [
    {
     "data": {
      "text/plain": [
       "<matplotlib.collections.PathCollection at 0x2117ce50fd0>"
      ]
     },
     "execution_count": 18,
     "metadata": {},
     "output_type": "execute_result"
    },
    {
     "data": {
      "image/png": "[encoded data removed]",
      "text/plain": [
       "<Figure size 432x288 with 1 Axes>"
      ]
     },
     "metadata": {
      "needs_background": "light"
     },
     "output_type": "display_data"
    }
   ],
   "source": [
    "plt.scatter(x=all_energy, y=all_momentum)\n",
    "plt.xlabel(\"Energy\")\n",
    "plt.ylabel(\"Momentum)\")"
   ]
  },
  {
   "attachments": {},
   "cell_type": "markdown",
   "metadata": {},
   "source": [
    "## Analysis"
   ]
  },
  {
   "cell_type": "code",
   "execution_count": 1,
   "metadata": {},
   "outputs": [],
   "source": [
    "import shutil\n",
    "import random\n",
    "\n",
    "from tqdm import tqdm\n",
    "from matplotlib import pyplot as plt\n",
    "\n",
    "import numpy as np\n",
    "from sklearn.preprocessing import StandardScaler"
   ]
  },
  {
   "cell_type": "code",
   "execution_count": 2,
   "metadata": {},
   "outputs": [],
   "source": [
    "labels = [\"Gluon\", \"Light quark\", \"W boson\", \"Z boson\", \"Top quark\"]"
   ]
  },
  {
   "cell_type": "code",
   "execution_count": 13,
   "metadata": {},
   "outputs": [],
   "source": [
    "n_jets = len(events)\n",
    "resolution = 50\n",
    "\n",
    "def create_image(particle):\n",
    "    image = np.zeros((resolution, resolution))\n",
    "\n",
    "    for i in tqdm(range(n_jets)):\n",
    "        y = events[i][\"y\"]\n",
    "        if y[0] != particle: continue\n",
    "\n",
    "        # Plot a single thing\n",
    "        my_event = events[i][\"x\"]\n",
    "\n",
    "        etas = my_event[:, 1]\n",
    "        phis = my_event[:, 2]\n",
    "        energies = my_event[:, 3]\n",
    "\n",
    "        hist = np.histogram2d(etas, phis, weights=energies, bins=50)\n",
    "\n",
    "        image += hist[0]\n",
    "    \n",
    "    return image"
   ]
  },
  {
   "cell_type": "code",
   "execution_count": 15,
   "metadata": {},
   "outputs": [
    {
     "name": "stderr",
     "output_type": "stream",
     "text": [
      "100%|██████████| 1000/1000 [00:00<00:00, 1642.28it/s]\n",
      "100%|██████████| 1000/1000 [00:00<00:00, 3193.03it/s]\n",
      "100%|██████████| 1000/1000 [00:00<00:00, 4918.09it/s]\n",
      "100%|██████████| 1000/1000 [00:00<00:00, 4521.90it/s]\n",
      "100%|██████████| 1000/1000 [00:00<00:00, 4077.29it/s]\n"
     ]
    }
   ],
   "source": [
    "# Add up all images for each category\n",
    "images = [create_image(particle) for particle in range(5)]"
   ]
  },
  {
   "cell_type": "code",
   "execution_count": 19,
   "metadata": {},
   "outputs": [
    {
     "data": {
      "image/png": "[encoded data removed]",
      "text/plain": [
       "<Figure size 1440x288 with 5 Axes>"
      ]
     },
     "metadata": {
      "needs_background": "light"
     },
     "output_type": "display_data"
    }
   ],
   "source": [
    "fig, axs = plt.subplots(1, 5, figsize=(20, 4))\n",
    "\n",
    "for i, image in enumerate(images):\n",
    "    axs[i].imshow(image)\n",
    "    axs[i].set_title(labels[i])"
   ]
  },
  {
   "cell_type": "code",
   "execution_count": 34,
   "metadata": {},
   "outputs": [],
   "source": [
    "# Why is nothing showing for W and Z bosons?\n",
    "for i, event in enumerate(events):\n",
    "    if event[\"y\"][2] == 1:\n",
    "        jets = event[\"x\"]\n",
    "        break"
   ]
  },
  {
   "cell_type": "code",
   "execution_count": 35,
   "metadata": {},
   "outputs": [
    {
     "data": {
      "text/plain": [
       "<matplotlib.collections.PathCollection at 0x26f472ec550>"
      ]
     },
     "execution_count": 35,
     "metadata": {},
     "output_type": "execute_result"
    },
    {
     "data": {
      "image/png": "[encoded data removed]",
      "text/plain": [
       "<Figure size 432x288 with 1 Axes>"
      ]
     },
     "metadata": {
      "needs_background": "light"
     },
     "output_type": "display_data"
    }
   ],
   "source": [
    "plt.scatter(*jets[:, [0, 1]].T)"
   ]
  }
 ],
 "metadata": {
  "kernelspec": {
   "display_name": "Python 3",
   "language": "python",
   "name": "python3"
  },
  "language_info": {
   "codemirror_mode": {
    "name": "ipython",
    "version": 3
   },
   "file_extension": ".py",
   "mimetype": "text/x-python",
   "name": "python",
   "nbconvert_exporter": "python",
   "pygments_lexer": "ipython3",
   "version": "3.10.5"
  },
  "orig_nbformat": 4
 },
 "nbformat": 4,
 "nbformat_minor": 2
}
